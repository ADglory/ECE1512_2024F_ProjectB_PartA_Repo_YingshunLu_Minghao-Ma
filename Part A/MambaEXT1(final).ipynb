{
  "nbformat": 4,
  "nbformat_minor": 0,
  "metadata": {
    "colab": {
      "provenance": [],
      "machine_shape": "hm",
      "gpuType": "A100"
    },
    "kernelspec": {
      "name": "python3",
      "display_name": "Python 3"
    },
    "language_info": {
      "name": "python"
    },
    "accelerator": "GPU"
  },
  "cells": [
    {
      "cell_type": "markdown",
      "source": [
        "1. Import Libraries and Set GPU Environment"
      ],
      "metadata": {
        "id": "SeY1XbbH0kz0"
      }
    },
    {
      "cell_type": "code",
      "execution_count": 1,
      "metadata": {
        "colab": {
          "base_uri": "https://localhost:8080/"
        },
        "id": "VqFq82j_ztWy",
        "outputId": "44d7167b-50dc-41ad-fcd8-f736083c449c"
      },
      "outputs": [
        {
          "output_type": "stream",
          "name": "stdout",
          "text": [
            "Current device: cuda\n",
            "Is GPU available: True\n",
            "CUDA version: 12.1\n",
            "Number of available GPUs: 1\n",
            "Current GPU: NVIDIA A100-SXM4-40GB\n"
          ]
        }
      ],
      "source": [
        "import torch\n",
        "import torch.nn as nn\n",
        "import torch.optim as optim\n",
        "import torchvision\n",
        "import torchvision.transforms as transforms\n",
        "import torch.nn.functional as F\n",
        "\n",
        "# Device setup (Check for GPU availability)\n",
        "device = torch.device(\"cuda\" if torch.cuda.is_available() else \"cpu\")\n",
        "print(f\"Current device: {device}\")\n",
        "\n",
        "# Check CUDA and GPU information\n",
        "print(f\"Is GPU available: {torch.cuda.is_available()}\")\n",
        "print(f\"CUDA version: {torch.version.cuda}\")\n",
        "print(f\"Number of available GPUs: {torch.cuda.device_count()}\")\n",
        "print(f\"Current GPU: {torch.cuda.get_device_name(0)}\")\n"
      ]
    },
    {
      "cell_type": "markdown",
      "source": [
        "2. Path Extraction Module"
      ],
      "metadata": {
        "id": "ikBVceOq0nfW"
      }
    },
    {
      "cell_type": "code",
      "source": [
        "def extract_2d_scan_paths(x):\n",
        "    \"\"\"\n",
        "    Extracts 4 scanning paths (left-to-right, right-to-left, top-to-bottom, bottom-to-top) from a 2D image.\n",
        "    Args:\n",
        "        x (torch.Tensor): Input 2D image, shape (B, C, H, W)\n",
        "    Returns:\n",
        "        list of torch.Tensor: 4 scanning paths, each with shape (B, C, H*W)\n",
        "    \"\"\"\n",
        "    B, C, H, W = x.shape\n",
        "    left_to_right = x.view(B, C, H * W)\n",
        "    right_to_left = x.flip(dims=[-1]).view(B, C, H * W)\n",
        "    top_to_bottom = x.permute(0, 1, 3, 2).contiguous().view(B, C, W * H)\n",
        "    bottom_to_top = x.permute(0, 1, 3, 2).flip(dims=[-1]).contiguous().view(B, C, W * H)\n",
        "    return [left_to_right, right_to_left, top_to_bottom, bottom_to_top]\n"
      ],
      "metadata": {
        "id": "esAg-jtB0rBu"
      },
      "execution_count": 2,
      "outputs": []
    },
    {
      "cell_type": "markdown",
      "source": [
        "3. S6 Module Definition"
      ],
      "metadata": {
        "id": "mfTRuQaw0qnq"
      }
    },
    {
      "cell_type": "code",
      "source": [
        "class S6(nn.Module):\n",
        "    def __init__(self, in_channels):\n",
        "        \"\"\"\n",
        "        S6 module for selective scan operation.\n",
        "        Args:\n",
        "            in_channels (int): Number of input channels\n",
        "        \"\"\"\n",
        "        super(S6, self).__init__()\n",
        "        self.linear = nn.Linear(in_channels, in_channels)\n",
        "\n",
        "    def forward(self, x):\n",
        "        \"\"\"\n",
        "        Forward pass of the S6 module.\n",
        "        \"\"\"\n",
        "        return self.linear(x)\n"
      ],
      "metadata": {
        "id": "aMJDY4-E0tNJ"
      },
      "execution_count": 3,
      "outputs": []
    },
    {
      "cell_type": "markdown",
      "source": [
        "4. SS2D Module Implementation"
      ],
      "metadata": {
        "id": "eJ9-_fCY0xH5"
      }
    },
    {
      "cell_type": "code",
      "source": [
        "class SS2D(nn.Module):\n",
        "    def __init__(self, s6_block):\n",
        "        \"\"\"\n",
        "        2D Selective Scan module.\n",
        "        Args:\n",
        "            s6_block: Function to create an S6 block for each scan path.\n",
        "        \"\"\"\n",
        "        super(SS2D, self).__init__()\n",
        "        self.s6_blocks = nn.ModuleList([s6_block() for _ in range(4)])\n",
        "\n",
        "    def forward(self, x):\n",
        "        # Extract 2D scan paths\n",
        "        B, C, H, W = x.shape\n",
        "        left_to_right = x.view(B, C, H * W)\n",
        "        right_to_left = x.flip(dims=[-1]).view(B, C, H * W)\n",
        "        top_to_bottom = x.permute(0, 1, 3, 2).contiguous().view(B, C, W * H)\n",
        "        bottom_to_top = x.permute(0, 1, 3, 2).flip(dims=[-1]).contiguous().view(B, C, W * H)\n",
        "\n",
        "        # Apply S6 blocks to each path\n",
        "        scan_paths = [left_to_right, right_to_left, top_to_bottom, bottom_to_top]\n",
        "        # print(f\"Scan paths shapes: {[path.shape for path in scan_paths]}\")\n",
        "        scanned_paths = [self.s6_blocks[i](scan_paths[i]) for i in range(4)]\n",
        "        # print(f\"Scanned paths shapes: {[path.shape for path in scanned_paths]}\")\n",
        "\n",
        "        # Combine paths\n",
        "        combined = torch.stack(scanned_paths, dim=-1).mean(dim=-1)\n",
        "        # print(f\"Combined shape: {combined.shape}\")\n",
        "\n",
        "        # Reshape back to original shape\n",
        "        return combined.view(B, C, H, W)\n",
        "\n"
      ],
      "metadata": {
        "id": "LMWlhq_b0zWV"
      },
      "execution_count": 4,
      "outputs": []
    },
    {
      "cell_type": "markdown",
      "source": [
        "5. VSSBlock Implementation"
      ],
      "metadata": {
        "id": "ieO-3IUq06ks"
      }
    },
    {
      "cell_type": "code",
      "source": [
        "class VSSBlock(nn.Module):\n",
        "    def __init__(self, in_channels, out_channels, s6_block):\n",
        "        \"\"\"\n",
        "        VSS block with selective scan integration.\n",
        "        \"\"\"\n",
        "        super(VSSBlock, self).__init__()\n",
        "        self.conv1 = nn.Conv2d(in_channels, out_channels, kernel_size=3, stride=1, padding=1)\n",
        "        self.norm1 = nn.BatchNorm2d(out_channels)\n",
        "        self.conv2 = nn.Conv2d(out_channels, out_channels, kernel_size=3, stride=1, padding=1)\n",
        "        self.norm2 = nn.BatchNorm2d(out_channels)\n",
        "        self.activation = nn.ReLU()\n",
        "\n",
        "        # Add Selective Scan\n",
        "        self.ss2d = SS2D(s6_block)\n",
        "\n",
        "        # Channel adjustment layer\n",
        "        self.channel_adjust = nn.Conv2d(out_channels, out_channels, kernel_size=1)\n",
        "\n",
        "    def forward(self, x):\n",
        "        # print(f\"Input to VSSBlock: {x.shape}\")\n",
        "        x = self.conv1(x)\n",
        "        # print(f\"After conv1: {x.shape}\")\n",
        "        x = self.norm1(x)\n",
        "        x = self.activation(x)\n",
        "        x = self.conv2(x)\n",
        "        # print(f\"After conv2: {x.shape}\")\n",
        "        x = self.norm2(x)\n",
        "        x = self.activation(x)\n",
        "\n",
        "        # Apply selective scan\n",
        "        x = self.ss2d(x)\n",
        "        # print(f\"After selective scan: {x.shape}\")\n",
        "\n",
        "        # Apply channel adjustment\n",
        "        x = self.channel_adjust(x)\n",
        "        # print(f\"After channel adjustment: {x.shape}\")\n",
        "        return x\n",
        "\n"
      ],
      "metadata": {
        "id": "sBG5Zj2L07tT"
      },
      "execution_count": 5,
      "outputs": []
    },
    {
      "cell_type": "markdown",
      "source": [
        "6. VMamba Backbone Implementation"
      ],
      "metadata": {
        "id": "bX_LvfGI09Nj"
      }
    },
    {
      "cell_type": "code",
      "source": [
        "import torch\n",
        "import torch.nn as nn\n",
        "\n",
        "class VMamba(nn.Module):\n",
        "    def __init__(self, in_channels, num_blocks, s6_block):\n",
        "        \"\"\"\n",
        "        VMamba backbone with complete logic reconstruction.\n",
        "        Args:\n",
        "            in_channels (int): Number of input channels (e.g., 3 for RGB images).\n",
        "            num_blocks (int): Number of VSS blocks.\n",
        "            s6_block: Function to create an S6 block.\n",
        "        \"\"\"\n",
        "        super(VMamba, self).__init__()\n",
        "\n",
        "        # Initial convolution layer\n",
        "        self.stem = nn.Conv2d(in_channels, 32, kernel_size=3, stride=1, padding=1)\n",
        "        print(\"Stem initialized successfully.\")\n",
        "\n",
        "        # Stack of VSS blocks\n",
        "        blocks = []\n",
        "        current_channels = 32\n",
        "        for _ in range(num_blocks):\n",
        "            next_channels = current_channels * 2  # Double the channels at each block\n",
        "            blocks.append(VSSBlock(current_channels, next_channels, s6_block))\n",
        "            current_channels = next_channels\n",
        "        self.blocks = nn.Sequential(*blocks)\n",
        "        print(\"Blocks initialized successfully.\")\n",
        "\n",
        "        # Save final number of channels\n",
        "        self.final_channels = current_channels\n",
        "        print(f\"Final channels after blocks: {self.final_channels}\")\n",
        "\n",
        "        # Adaptive average pooling to reduce (H, W) to (1, 1)\n",
        "        self.global_pool = nn.AdaptiveAvgPool2d((1, 1))\n",
        "\n",
        "        # Placeholder for classification head\n",
        "        self.head = None\n",
        "\n",
        "    def forward(self, x):\n",
        "        \"\"\"\n",
        "        Forward pass of the VMamba model.\n",
        "        \"\"\"\n",
        "        # print(f\"Input to stem: {x.shape}\")\n",
        "        x = self.stem(x)\n",
        "        # print(f\"Output of stem: {x.shape}\")\n",
        "\n",
        "        x = self.blocks(x)\n",
        "        # print(f\"Output of blocks: {x.shape}\")\n",
        "\n",
        "        # Apply global average pooling\n",
        "        x = self.global_pool(x)  # Shape: (batch_size, channels, 1, 1)\n",
        "        # print(f\"After global average pooling: {x.shape}\")\n",
        "\n",
        "        # Flatten pooled output to (batch_size, channels)\n",
        "        x = x.view(x.size(0), -1)\n",
        "        # print(f\"After flattening: {x.shape}\")\n",
        "\n",
        "        # Dynamically initialize classification head\n",
        "        if self.head is None:\n",
        "            self.head = nn.Linear(self.final_channels, 10).to(x.device)  # CIFAR-10 has 10 classes\n",
        "            # print(f\"Head initialized with input features: {self.final_channels}\")\n",
        "\n",
        "        x = self.head(x)\n",
        "        # print(f\"Output of head: {x.shape}\")\n",
        "        return x\n",
        "\n",
        "\n"
      ],
      "metadata": {
        "id": "X0Q3eQa50_05"
      },
      "execution_count": 6,
      "outputs": []
    },
    {
      "cell_type": "markdown",
      "source": [
        "7. Training Script"
      ],
      "metadata": {
        "id": "ndG6MeNh1Etq"
      }
    },
    {
      "cell_type": "code",
      "source": [
        "# Load data\n",
        "import torchvision\n",
        "import torchvision.transforms as transforms\n",
        "\n",
        "transform = transforms.Compose([\n",
        "    transforms.RandomCrop(32, padding=4),\n",
        "    transforms.RandomHorizontalFlip(),\n",
        "    transforms.ToTensor(),\n",
        "    transforms.Normalize((0.5, 0.5, 0.5), (0.5, 0.5, 0.5)),\n",
        "])\n",
        "\n",
        "trainset = torchvision.datasets.CIFAR10(root='./data', train=True, download=True, transform=transform)\n",
        "trainloader = torch.utils.data.DataLoader(trainset, batch_size=128, shuffle=True, num_workers=2)\n",
        "\n",
        "# Initialize the model\n",
        "device = torch.device(\"cuda\" if torch.cuda.is_available() else \"cpu\")\n",
        "model = VMamba(in_channels=3, num_blocks=4, s6_block=lambda: nn.Identity()).to(device)\n",
        "\n",
        "# Validate the forward propagation\n",
        "for inputs, labels in trainloader:\n",
        "    inputs = inputs.to(device)\n",
        "    outputs = model(inputs)\n",
        "    break\n"
      ],
      "metadata": {
        "colab": {
          "base_uri": "https://localhost:8080/"
        },
        "id": "Y3b6EUd-1FDr",
        "outputId": "ca8835bd-58b8-4853-97ca-ee059becb00e"
      },
      "execution_count": 7,
      "outputs": [
        {
          "output_type": "stream",
          "name": "stdout",
          "text": [
            "Downloading https://www.cs.toronto.edu/~kriz/cifar-10-python.tar.gz to ./data/cifar-10-python.tar.gz\n"
          ]
        },
        {
          "output_type": "stream",
          "name": "stderr",
          "text": [
            "100%|██████████| 170M/170M [00:03<00:00, 44.1MB/s]\n"
          ]
        },
        {
          "output_type": "stream",
          "name": "stdout",
          "text": [
            "Extracting ./data/cifar-10-python.tar.gz to ./data\n",
            "Stem initialized successfully.\n",
            "Blocks initialized successfully.\n",
            "Final channels after blocks: 512\n"
          ]
        }
      ]
    },
    {
      "cell_type": "markdown",
      "source": [
        "**TEST**"
      ],
      "metadata": {
        "id": "E_TmXpt19gK8"
      }
    },
    {
      "cell_type": "code",
      "source": [
        "import torch.optim as optim\n",
        "from torch.nn import CrossEntropyLoss\n",
        "from tqdm import tqdm\n",
        "\n",
        "# Define loss function and optimizer\n",
        "criterion = CrossEntropyLoss()\n",
        "optimizer = optim.Adam(model.parameters(), lr=0.001)\n",
        "\n",
        "# CIFAR-10 testset\n",
        "testset = torchvision.datasets.CIFAR10(root='./data', train=False, download=True, transform=transform)\n",
        "testloader = torch.utils.data.DataLoader(testset, batch_size=128, shuffle=False, num_workers=2)\n",
        "\n",
        "# Begin training\n",
        "epochs = 20\n",
        "for epoch in range(epochs):\n",
        "    model.train()\n",
        "    running_loss = 0.0\n",
        "\n",
        "    # Training\n",
        "    for inputs, labels in tqdm(trainloader, desc=f\"Epoch {epoch+1}/{epochs}\"):\n",
        "        inputs, labels = inputs.to(device), labels.to(device)\n",
        "\n",
        "        optimizer.zero_grad()  # Gradient reset\n",
        "        outputs = model(inputs)  # forward propagation\n",
        "        loss = criterion(outputs, labels)  # Compute the loss\n",
        "        loss.backward()  # back propagation\n",
        "        optimizer.step()  # Update weights\n",
        "\n",
        "        running_loss += loss.item()\n",
        "\n",
        "    print(f\"Epoch {epoch+1} Loss: {running_loss / len(trainloader):.4f}\")\n",
        "\n",
        "    # Validation\n",
        "    model.eval()\n",
        "    correct = 0\n",
        "    total = 0\n",
        "    with torch.no_grad():\n",
        "        for inputs, labels in testloader:\n",
        "            inputs, labels = inputs.to(device), labels.to(device)\n",
        "            outputs = model(inputs)\n",
        "            _, predicted = torch.max(outputs.data, 1)\n",
        "            total += labels.size(0)\n",
        "            correct += (predicted == labels).sum().item()\n",
        "\n",
        "    accuracy = 100 * correct / total\n",
        "    print(f\"Validation Accuracy after Epoch {epoch+1}: {accuracy:.2f}%\")\n",
        "\n",
        "print(\"Training complete!\")\n"
      ],
      "metadata": {
        "colab": {
          "base_uri": "https://localhost:8080/",
          "height": 1000
        },
        "id": "npczdYCi-XsK",
        "outputId": "548b34e2-e81e-491f-fb79-5c946de7aec8"
      },
      "execution_count": 10,
      "outputs": [
        {
          "output_type": "stream",
          "name": "stdout",
          "text": [
            "Files already downloaded and verified\n"
          ]
        },
        {
          "output_type": "stream",
          "name": "stderr",
          "text": [
            "Epoch 1/20: 100%|██████████| 391/391 [00:36<00:00, 10.75it/s]"
          ]
        },
        {
          "output_type": "stream",
          "name": "stdout",
          "text": [
            "Epoch 1 Loss: 1.4993\n"
          ]
        },
        {
          "output_type": "stream",
          "name": "stderr",
          "text": [
            "\n"
          ]
        },
        {
          "output_type": "stream",
          "name": "stdout",
          "text": [
            "Validation Accuracy after Epoch 1: 46.60%\n"
          ]
        },
        {
          "output_type": "stream",
          "name": "stderr",
          "text": [
            "Epoch 2/20: 100%|██████████| 391/391 [00:36<00:00, 10.77it/s]"
          ]
        },
        {
          "output_type": "stream",
          "name": "stdout",
          "text": [
            "Epoch 2 Loss: 1.3331\n"
          ]
        },
        {
          "output_type": "stream",
          "name": "stderr",
          "text": [
            "\n"
          ]
        },
        {
          "output_type": "stream",
          "name": "stdout",
          "text": [
            "Validation Accuracy after Epoch 2: 48.71%\n"
          ]
        },
        {
          "output_type": "stream",
          "name": "stderr",
          "text": [
            "Epoch 3/20: 100%|██████████| 391/391 [00:36<00:00, 10.76it/s]"
          ]
        },
        {
          "output_type": "stream",
          "name": "stdout",
          "text": [
            "Epoch 3 Loss: 1.2234\n"
          ]
        },
        {
          "output_type": "stream",
          "name": "stderr",
          "text": [
            "\n"
          ]
        },
        {
          "output_type": "stream",
          "name": "stdout",
          "text": [
            "Validation Accuracy after Epoch 3: 53.07%\n"
          ]
        },
        {
          "output_type": "stream",
          "name": "stderr",
          "text": [
            "Epoch 4/20: 100%|██████████| 391/391 [00:36<00:00, 10.77it/s]"
          ]
        },
        {
          "output_type": "stream",
          "name": "stdout",
          "text": [
            "Epoch 4 Loss: 1.1407\n"
          ]
        },
        {
          "output_type": "stream",
          "name": "stderr",
          "text": [
            "\n"
          ]
        },
        {
          "output_type": "stream",
          "name": "stdout",
          "text": [
            "Validation Accuracy after Epoch 4: 50.25%\n"
          ]
        },
        {
          "output_type": "stream",
          "name": "stderr",
          "text": [
            "Epoch 5/20: 100%|██████████| 391/391 [00:36<00:00, 10.76it/s]"
          ]
        },
        {
          "output_type": "stream",
          "name": "stdout",
          "text": [
            "Epoch 5 Loss: 1.0843\n"
          ]
        },
        {
          "output_type": "stream",
          "name": "stderr",
          "text": [
            "\n"
          ]
        },
        {
          "output_type": "stream",
          "name": "stdout",
          "text": [
            "Validation Accuracy after Epoch 5: 53.68%\n"
          ]
        },
        {
          "output_type": "stream",
          "name": "stderr",
          "text": [
            "Epoch 6/20: 100%|██████████| 391/391 [00:36<00:00, 10.77it/s]"
          ]
        },
        {
          "output_type": "stream",
          "name": "stdout",
          "text": [
            "Epoch 6 Loss: 1.0446\n"
          ]
        },
        {
          "output_type": "stream",
          "name": "stderr",
          "text": [
            "\n"
          ]
        },
        {
          "output_type": "stream",
          "name": "stdout",
          "text": [
            "Validation Accuracy after Epoch 6: 55.17%\n"
          ]
        },
        {
          "output_type": "stream",
          "name": "stderr",
          "text": [
            "Epoch 7/20: 100%|██████████| 391/391 [00:36<00:00, 10.78it/s]"
          ]
        },
        {
          "output_type": "stream",
          "name": "stdout",
          "text": [
            "Epoch 7 Loss: 1.0017\n"
          ]
        },
        {
          "output_type": "stream",
          "name": "stderr",
          "text": [
            "\n"
          ]
        },
        {
          "output_type": "stream",
          "name": "stdout",
          "text": [
            "Validation Accuracy after Epoch 7: 58.68%\n"
          ]
        },
        {
          "output_type": "stream",
          "name": "stderr",
          "text": [
            "Epoch 8/20: 100%|██████████| 391/391 [00:36<00:00, 10.78it/s]"
          ]
        },
        {
          "output_type": "stream",
          "name": "stdout",
          "text": [
            "Epoch 8 Loss: 0.9723\n"
          ]
        },
        {
          "output_type": "stream",
          "name": "stderr",
          "text": [
            "\n"
          ]
        },
        {
          "output_type": "stream",
          "name": "stdout",
          "text": [
            "Validation Accuracy after Epoch 8: 57.19%\n"
          ]
        },
        {
          "output_type": "stream",
          "name": "stderr",
          "text": [
            "Epoch 9/20: 100%|██████████| 391/391 [00:36<00:00, 10.77it/s]"
          ]
        },
        {
          "output_type": "stream",
          "name": "stdout",
          "text": [
            "Epoch 9 Loss: 0.9437\n"
          ]
        },
        {
          "output_type": "stream",
          "name": "stderr",
          "text": [
            "\n"
          ]
        },
        {
          "output_type": "stream",
          "name": "stdout",
          "text": [
            "Validation Accuracy after Epoch 9: 59.93%\n"
          ]
        },
        {
          "output_type": "stream",
          "name": "stderr",
          "text": [
            "Epoch 10/20: 100%|██████████| 391/391 [00:36<00:00, 10.78it/s]"
          ]
        },
        {
          "output_type": "stream",
          "name": "stdout",
          "text": [
            "Epoch 10 Loss: 0.9244\n"
          ]
        },
        {
          "output_type": "stream",
          "name": "stderr",
          "text": [
            "\n"
          ]
        },
        {
          "output_type": "stream",
          "name": "stdout",
          "text": [
            "Validation Accuracy after Epoch 10: 61.89%\n"
          ]
        },
        {
          "output_type": "stream",
          "name": "stderr",
          "text": [
            "Epoch 11/20: 100%|██████████| 391/391 [00:36<00:00, 10.78it/s]"
          ]
        },
        {
          "output_type": "stream",
          "name": "stdout",
          "text": [
            "Epoch 11 Loss: 0.9012\n"
          ]
        },
        {
          "output_type": "stream",
          "name": "stderr",
          "text": [
            "\n"
          ]
        },
        {
          "output_type": "stream",
          "name": "stdout",
          "text": [
            "Validation Accuracy after Epoch 11: 61.22%\n"
          ]
        },
        {
          "output_type": "stream",
          "name": "stderr",
          "text": [
            "Epoch 12/20: 100%|██████████| 391/391 [00:36<00:00, 10.77it/s]"
          ]
        },
        {
          "output_type": "stream",
          "name": "stdout",
          "text": [
            "Epoch 12 Loss: 0.8740\n"
          ]
        },
        {
          "output_type": "stream",
          "name": "stderr",
          "text": [
            "\n"
          ]
        },
        {
          "output_type": "stream",
          "name": "stdout",
          "text": [
            "Validation Accuracy after Epoch 12: 63.41%\n"
          ]
        },
        {
          "output_type": "stream",
          "name": "stderr",
          "text": [
            "Epoch 13/20: 100%|██████████| 391/391 [00:36<00:00, 10.78it/s]"
          ]
        },
        {
          "output_type": "stream",
          "name": "stdout",
          "text": [
            "Epoch 13 Loss: 0.8620\n"
          ]
        },
        {
          "output_type": "stream",
          "name": "stderr",
          "text": [
            "\n"
          ]
        },
        {
          "output_type": "stream",
          "name": "stdout",
          "text": [
            "Validation Accuracy after Epoch 13: 61.25%\n"
          ]
        },
        {
          "output_type": "stream",
          "name": "stderr",
          "text": [
            "Epoch 14/20: 100%|██████████| 391/391 [00:36<00:00, 10.78it/s]"
          ]
        },
        {
          "output_type": "stream",
          "name": "stdout",
          "text": [
            "Epoch 14 Loss: 0.8428\n"
          ]
        },
        {
          "output_type": "stream",
          "name": "stderr",
          "text": [
            "\n"
          ]
        },
        {
          "output_type": "stream",
          "name": "stdout",
          "text": [
            "Validation Accuracy after Epoch 14: 62.37%\n"
          ]
        },
        {
          "output_type": "stream",
          "name": "stderr",
          "text": [
            "Epoch 15/20: 100%|██████████| 391/391 [00:36<00:00, 10.76it/s]"
          ]
        },
        {
          "output_type": "stream",
          "name": "stdout",
          "text": [
            "Epoch 15 Loss: 0.8317\n"
          ]
        },
        {
          "output_type": "stream",
          "name": "stderr",
          "text": [
            "\n"
          ]
        },
        {
          "output_type": "stream",
          "name": "stdout",
          "text": [
            "Validation Accuracy after Epoch 15: 50.71%\n"
          ]
        },
        {
          "output_type": "stream",
          "name": "stderr",
          "text": [
            "Epoch 16/20: 100%|██████████| 391/391 [00:36<00:00, 10.78it/s]"
          ]
        },
        {
          "output_type": "stream",
          "name": "stdout",
          "text": [
            "Epoch 16 Loss: 0.8080\n"
          ]
        },
        {
          "output_type": "stream",
          "name": "stderr",
          "text": [
            "\n"
          ]
        },
        {
          "output_type": "stream",
          "name": "stdout",
          "text": [
            "Validation Accuracy after Epoch 16: 69.12%\n"
          ]
        },
        {
          "output_type": "stream",
          "name": "stderr",
          "text": [
            "Epoch 17/20: 100%|██████████| 391/391 [00:36<00:00, 10.78it/s]"
          ]
        },
        {
          "output_type": "stream",
          "name": "stdout",
          "text": [
            "Epoch 17 Loss: 0.8031\n"
          ]
        },
        {
          "output_type": "stream",
          "name": "stderr",
          "text": [
            "\n"
          ]
        },
        {
          "output_type": "stream",
          "name": "stdout",
          "text": [
            "Validation Accuracy after Epoch 17: 63.76%\n"
          ]
        },
        {
          "output_type": "stream",
          "name": "stderr",
          "text": [
            "Epoch 18/20: 100%|██████████| 391/391 [00:36<00:00, 10.79it/s]"
          ]
        },
        {
          "output_type": "stream",
          "name": "stdout",
          "text": [
            "Epoch 18 Loss: 0.7793\n"
          ]
        },
        {
          "output_type": "stream",
          "name": "stderr",
          "text": [
            "\n"
          ]
        },
        {
          "output_type": "stream",
          "name": "stdout",
          "text": [
            "Validation Accuracy after Epoch 18: 68.74%\n"
          ]
        },
        {
          "output_type": "stream",
          "name": "stderr",
          "text": [
            "Epoch 19/20: 100%|██████████| 391/391 [00:36<00:00, 10.78it/s]"
          ]
        },
        {
          "output_type": "stream",
          "name": "stdout",
          "text": [
            "Epoch 19 Loss: 0.7735\n"
          ]
        },
        {
          "output_type": "stream",
          "name": "stderr",
          "text": [
            "\n"
          ]
        },
        {
          "output_type": "stream",
          "name": "stdout",
          "text": [
            "Validation Accuracy after Epoch 19: 71.57%\n"
          ]
        },
        {
          "output_type": "stream",
          "name": "stderr",
          "text": [
            "Epoch 20/20: 100%|██████████| 391/391 [00:36<00:00, 10.78it/s]"
          ]
        },
        {
          "output_type": "stream",
          "name": "stdout",
          "text": [
            "Epoch 20 Loss: 0.7608\n"
          ]
        },
        {
          "output_type": "stream",
          "name": "stderr",
          "text": [
            "\n"
          ]
        },
        {
          "output_type": "stream",
          "name": "stdout",
          "text": [
            "Validation Accuracy after Epoch 20: 67.21%\n",
            "Training complete!\n"
          ]
        },
        {
          "output_type": "display_data",
          "data": {
            "text/plain": [
              "<Figure size 1200x500 with 2 Axes>"
            ],
            "image/png": "[encoded data removed]"
          },
          "metadata": {}
        }
      ]
    },
    {
      "cell_type": "code",
      "source": [
        "import numpy as np\n",
        "import matplotlib.pyplot as plt\n",
        "\n",
        "def show_predictions(model, dataloader, classes):\n",
        "    model.eval()\n",
        "    images, labels = next(iter(dataloader))\n",
        "    images, labels = images.to(device), labels.to(device)\n",
        "    outputs = model(images)\n",
        "    _, preds = torch.max(outputs, 1)\n",
        "\n",
        "    # Move data to CPU for visualization\n",
        "    images, labels, preds = images.cpu(), labels.cpu(), preds.cpu()\n",
        "\n",
        "    # Show first 8 predictions\n",
        "    fig, axes = plt.subplots(1, 8, figsize=(20, 5))\n",
        "    for i in range(8):\n",
        "        ax = axes[i]\n",
        "        ax.imshow(np.transpose(images[i].numpy(), (1, 2, 0)) * 0.5 + 0.5)  # Unnormalize\n",
        "        ax.set_title(f\"True: {classes[labels[i]]}\\nPred: {classes[preds[i]]}\")\n",
        "        ax.axis('off')\n",
        "    plt.show()\n",
        "\n",
        "# Call the function after training\n",
        "classes = trainset.classes\n",
        "show_predictions(model, testloader, classes)"
      ],
      "metadata": {
        "colab": {
          "base_uri": "https://localhost:8080/",
          "height": 245
        },
        "id": "9wSS8e8NkK2Z",
        "outputId": "a8770157-9012-42c8-8703-3d92d26f5cd4"
      },
      "execution_count": 11,
      "outputs": [
        {
          "output_type": "display_data",
          "data": {
            "text/plain": [
              "<Figure size 2000x500 with 8 Axes>"
            ],
            "image/png": "[encoded data removed]"
          },
          "metadata": {}
        }
      ]
    }
  ]
}